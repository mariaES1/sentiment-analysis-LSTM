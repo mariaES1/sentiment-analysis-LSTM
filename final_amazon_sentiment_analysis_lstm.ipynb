{
  "metadata": {
    "kernelspec": {
      "language": "python",
      "display_name": "Python 3",
      "name": "python3"
    },
    "language_info": {
      "name": "python",
      "version": "3.7.9",
      "mimetype": "text/x-python",
      "codemirror_mode": {
        "name": "ipython",
        "version": 3
      },
      "pygments_lexer": "ipython3",
      "nbconvert_exporter": "python",
      "file_extension": ".py"
    },
    "colab": {
      "provenance": []
    }
  },
  "nbformat_minor": 0,
  "nbformat": 4,
  "cells": [
    {
      "cell_type": "markdown",
      "source": [
        "## Installing and importing dependencies"
      ],
      "metadata": {
        "_uuid": "e323ac66-f138-4c99-84e7-ffc2d736df95",
        "_cell_guid": "e9af0762-88ad-444a-98d6-b60ff39fb1f7",
        "trusted": true,
        "id": "Q6bJbr9HaozL"
      }
    },
    {
      "cell_type": "code",
      "source": [
        "import numpy as np # linear algebra\n",
        "import pandas as pd # data processing\n",
        "import os\n",
        "\n",
        "\n",
        "#For Preprocessing\n",
        "import re    # RegEx for removing non-letter characters\n",
        "import nltk  #natural language processing\n",
        "nltk.download(\"stopwords\")\n",
        "from nltk.corpus import stopwords\n",
        "from nltk.stem.porter import *\n",
        "\n",
        "# For Building the model\n",
        "from sklearn.model_selection import train_test_split\n",
        "import tensorflow as tf\n",
        "import seaborn as sns\n",
        "\n",
        "#For data visualization\n",
        "import matplotlib.pyplot as plt\n",
        "import matplotlib.patches as mpatches\n",
        "%matplotlib inline\n",
        "\n",
        "pd.options.plotting.backend = \"plotly\""
      ],
      "metadata": {
        "_uuid": "c0e8bf21-9fc1-464b-a11b-6bdf4b0f9fce",
        "_cell_guid": "76f1f3d0-b6fe-44a9-993e-ecfe7f108944",
        "jupyter": {
          "outputs_hidden": false
        },
        "execution": {
          "iopub.status.busy": "2021-06-15T13:48:15.341787Z",
          "iopub.execute_input": "2021-06-15T13:48:15.342066Z",
          "iopub.status.idle": "2021-06-15T13:48:22.030557Z",
          "shell.execute_reply.started": "2021-06-15T13:48:15.342038Z",
          "shell.execute_reply": "2021-06-15T13:48:22.028518Z"
        },
        "trusted": true,
        "colab": {
          "base_uri": "https://localhost:8080/"
        },
        "id": "W-p9k7RiaozP",
        "outputId": "2c2a9a82-e12d-4609-ee52-8db3314bf535"
      },
      "execution_count": null,
      "outputs": [
        {
          "output_type": "stream",
          "name": "stderr",
          "text": [
            "[nltk_data] Downloading package stopwords to /root/nltk_data...\n",
            "[nltk_data]   Package stopwords is already up-to-date!\n"
          ]
        }
      ]
    },
    {
      "cell_type": "markdown",
      "source": [
        "### Cleaning and prepping dataset"
      ],
      "metadata": {
        "_uuid": "88e14970-da9b-4403-af5e-c631eede9c19",
        "_cell_guid": "49547739-db4d-4559-b6d2-600ecd225d3e",
        "trusted": true,
        "id": "VIIbAEkoaozQ"
      }
    },
    {
      "cell_type": "code",
      "source": [
        "from google.colab import drive\n",
        "\n",
        "drive.mount('/content/drive')"
      ],
      "metadata": {
        "colab": {
          "base_uri": "https://localhost:8080/"
        },
        "id": "_QUEIe8NcMIT",
        "outputId": "07ecee43-0bd8-442f-d9c6-452749bc90c4"
      },
      "execution_count": null,
      "outputs": [
        {
          "output_type": "stream",
          "name": "stdout",
          "text": [
            "Mounted at /content/drive\n"
          ]
        }
      ]
    },
    {
      "cell_type": "code",
      "source": [
        "df = pd.read_csv('/content/drive/MyDrive/Amazon_review.csv')"
      ],
      "metadata": {
        "_uuid": "40162102-3d8c-40cb-90aa-4768c908436e",
        "_cell_guid": "0725a44b-49c3-4bbc-b763-537bc252ffa9",
        "jupyter": {
          "outputs_hidden": false
        },
        "execution": {
          "iopub.status.busy": "2021-06-15T13:48:22.926099Z",
          "iopub.execute_input": "2021-06-15T13:48:22.929072Z",
          "iopub.status.idle": "2021-06-15T13:48:22.939973Z",
          "shell.execute_reply.started": "2021-06-15T13:48:22.929001Z",
          "shell.execute_reply": "2021-06-15T13:48:22.939110Z"
        },
        "trusted": true,
        "id": "qo8q7DovaozV"
      },
      "execution_count": null,
      "outputs": []
    },
    {
      "cell_type": "code",
      "source": [
        "df = df.sample(20_000)"
      ],
      "metadata": {
        "id": "mnmcnu5ucWYp"
      },
      "execution_count": null,
      "outputs": []
    },
    {
      "cell_type": "code",
      "source": [
        "df.head()"
      ],
      "metadata": {
        "colab": {
          "base_uri": "https://localhost:8080/",
          "height": 206
        },
        "id": "YTRw58Nmcfpb",
        "outputId": "a5282ef6-d7c1-43f5-f29f-a587f15131af"
      },
      "execution_count": null,
      "outputs": [
        {
          "output_type": "execute_result",
          "data": {
            "text/plain": [
              "       Unnamed: 0                                             review  \\\n",
              "4597      3158091  Another WOW, just the depth and richness of he...   \n",
              "45898     2292544  Among the previous reviews, \"M. Garrison\" and ...   \n",
              "31001      908262  This movie is quite funny, and I didn't rememb...   \n",
              "18135     1213524  very repetitive; lacks the animation for child...   \n",
              "49112      515663  This book was published as the Post Cold War w...   \n",
              "\n",
              "       sentiment  \n",
              "4597           1  \n",
              "45898          0  \n",
              "31001          1  \n",
              "18135          0  \n",
              "49112          1  "
            ],
            "text/html": [
              "\n",
              "  <div id=\"df-fe128243-1bc1-4608-8872-b8e3d3511032\">\n",
              "    <div class=\"colab-df-container\">\n",
              "      <div>\n",
              "<style scoped>\n",
              "    .dataframe tbody tr th:only-of-type {\n",
              "        vertical-align: middle;\n",
              "    }\n",
              "\n",
              "    .dataframe tbody tr th {\n",
              "        vertical-align: top;\n",
              "    }\n",
              "\n",
              "    .dataframe thead th {\n",
              "        text-align: right;\n",
              "    }\n",
              "</style>\n",
              "<table border=\"1\" class=\"dataframe\">\n",
              "  <thead>\n",
              "    <tr style=\"text-align: right;\">\n",
              "      <th></th>\n",
              "      <th>Unnamed: 0</th>\n",
              "      <th>review</th>\n",
              "      <th>sentiment</th>\n",
              "    </tr>\n",
              "  </thead>\n",
              "  <tbody>\n",
              "    <tr>\n",
              "      <th>4597</th>\n",
              "      <td>3158091</td>\n",
              "      <td>Another WOW, just the depth and richness of he...</td>\n",
              "      <td>1</td>\n",
              "    </tr>\n",
              "    <tr>\n",
              "      <th>45898</th>\n",
              "      <td>2292544</td>\n",
              "      <td>Among the previous reviews, \"M. Garrison\" and ...</td>\n",
              "      <td>0</td>\n",
              "    </tr>\n",
              "    <tr>\n",
              "      <th>31001</th>\n",
              "      <td>908262</td>\n",
              "      <td>This movie is quite funny, and I didn't rememb...</td>\n",
              "      <td>1</td>\n",
              "    </tr>\n",
              "    <tr>\n",
              "      <th>18135</th>\n",
              "      <td>1213524</td>\n",
              "      <td>very repetitive; lacks the animation for child...</td>\n",
              "      <td>0</td>\n",
              "    </tr>\n",
              "    <tr>\n",
              "      <th>49112</th>\n",
              "      <td>515663</td>\n",
              "      <td>This book was published as the Post Cold War w...</td>\n",
              "      <td>1</td>\n",
              "    </tr>\n",
              "  </tbody>\n",
              "</table>\n",
              "</div>\n",
              "      <button class=\"colab-df-convert\" onclick=\"convertToInteractive('df-fe128243-1bc1-4608-8872-b8e3d3511032')\"\n",
              "              title=\"Convert this dataframe to an interactive table.\"\n",
              "              style=\"display:none;\">\n",
              "        \n",
              "  <svg xmlns=\"http://www.w3.org/2000/svg\" height=\"24px\"viewBox=\"0 0 24 24\"\n",
              "       width=\"24px\">\n",
              "    <path d=\"M0 0h24v24H0V0z\" fill=\"none\"/>\n",
              "    <path d=\"M18.56 5.44l.94 2.06.94-2.06 2.06-.94-2.06-.94-.94-2.06-.94 2.06-2.06.94zm-11 1L8.5 8.5l.94-2.06 2.06-.94-2.06-.94L8.5 2.5l-.94 2.06-2.06.94zm10 10l.94 2.06.94-2.06 2.06-.94-2.06-.94-.94-2.06-.94 2.06-2.06.94z\"/><path d=\"M17.41 7.96l-1.37-1.37c-.4-.4-.92-.59-1.43-.59-.52 0-1.04.2-1.43.59L10.3 9.45l-7.72 7.72c-.78.78-.78 2.05 0 2.83L4 21.41c.39.39.9.59 1.41.59.51 0 1.02-.2 1.41-.59l7.78-7.78 2.81-2.81c.8-.78.8-2.07 0-2.86zM5.41 20L4 18.59l7.72-7.72 1.47 1.35L5.41 20z\"/>\n",
              "  </svg>\n",
              "      </button>\n",
              "      \n",
              "  <style>\n",
              "    .colab-df-container {\n",
              "      display:flex;\n",
              "      flex-wrap:wrap;\n",
              "      gap: 12px;\n",
              "    }\n",
              "\n",
              "    .colab-df-convert {\n",
              "      background-color: #E8F0FE;\n",
              "      border: none;\n",
              "      border-radius: 50%;\n",
              "      cursor: pointer;\n",
              "      display: none;\n",
              "      fill: #1967D2;\n",
              "      height: 32px;\n",
              "      padding: 0 0 0 0;\n",
              "      width: 32px;\n",
              "    }\n",
              "\n",
              "    .colab-df-convert:hover {\n",
              "      background-color: #E2EBFA;\n",
              "      box-shadow: 0px 1px 2px rgba(60, 64, 67, 0.3), 0px 1px 3px 1px rgba(60, 64, 67, 0.15);\n",
              "      fill: #174EA6;\n",
              "    }\n",
              "\n",
              "    [theme=dark] .colab-df-convert {\n",
              "      background-color: #3B4455;\n",
              "      fill: #D2E3FC;\n",
              "    }\n",
              "\n",
              "    [theme=dark] .colab-df-convert:hover {\n",
              "      background-color: #434B5C;\n",
              "      box-shadow: 0px 1px 3px 1px rgba(0, 0, 0, 0.15);\n",
              "      filter: drop-shadow(0px 1px 2px rgba(0, 0, 0, 0.3));\n",
              "      fill: #FFFFFF;\n",
              "    }\n",
              "  </style>\n",
              "\n",
              "      <script>\n",
              "        const buttonEl =\n",
              "          document.querySelector('#df-fe128243-1bc1-4608-8872-b8e3d3511032 button.colab-df-convert');\n",
              "        buttonEl.style.display =\n",
              "          google.colab.kernel.accessAllowed ? 'block' : 'none';\n",
              "\n",
              "        async function convertToInteractive(key) {\n",
              "          const element = document.querySelector('#df-fe128243-1bc1-4608-8872-b8e3d3511032');\n",
              "          const dataTable =\n",
              "            await google.colab.kernel.invokeFunction('convertToInteractive',\n",
              "                                                     [key], {});\n",
              "          if (!dataTable) return;\n",
              "\n",
              "          const docLinkHtml = 'Like what you see? Visit the ' +\n",
              "            '<a target=\"_blank\" href=https://colab.research.google.com/notebooks/data_table.ipynb>data table notebook</a>'\n",
              "            + ' to learn more about interactive tables.';\n",
              "          element.innerHTML = '';\n",
              "          dataTable['output_type'] = 'display_data';\n",
              "          await google.colab.output.renderOutput(dataTable, element);\n",
              "          const docLink = document.createElement('div');\n",
              "          docLink.innerHTML = docLinkHtml;\n",
              "          element.appendChild(docLink);\n",
              "        }\n",
              "      </script>\n",
              "    </div>\n",
              "  </div>\n",
              "  "
            ]
          },
          "metadata": {},
          "execution_count": 6
        }
      ]
    },
    {
      "cell_type": "code",
      "source": [
        "df = df[['review', 'sentiment']]\n",
        "df"
      ],
      "metadata": {
        "colab": {
          "base_uri": "https://localhost:8080/",
          "height": 424
        },
        "id": "4NGXng6Jcpn0",
        "outputId": "572195d3-a814-4d9a-ed57-9c02a630fe80"
      },
      "execution_count": null,
      "outputs": [
        {
          "output_type": "execute_result",
          "data": {
            "text/plain": [
              "                                                  review  sentiment\n",
              "4597   Another WOW, just the depth and richness of he...          1\n",
              "45898  Among the previous reviews, \"M. Garrison\" and ...          0\n",
              "31001  This movie is quite funny, and I didn't rememb...          1\n",
              "18135  very repetitive; lacks the animation for child...          0\n",
              "49112  This book was published as the Post Cold War w...          1\n",
              "...                                                  ...        ...\n",
              "95385  Its only good for the few ok cards that are in...          0\n",
              "98553  Re The Sony DVD GX Series DVD RecordersI would...          0\n",
              "44691  A great book, or guide i should say, for those...          1\n",
              "61099  Simply doesn't work. I tried using more than t...          0\n",
              "88941  It puts the labels no where near where I wante...          0\n",
              "\n",
              "[20000 rows x 2 columns]"
            ],
            "text/html": [
              "\n",
              "  <div id=\"df-a574cac9-1d59-48d5-8790-5e578c9ef59b\">\n",
              "    <div class=\"colab-df-container\">\n",
              "      <div>\n",
              "<style scoped>\n",
              "    .dataframe tbody tr th:only-of-type {\n",
              "        vertical-align: middle;\n",
              "    }\n",
              "\n",
              "    .dataframe tbody tr th {\n",
              "        vertical-align: top;\n",
              "    }\n",
              "\n",
              "    .dataframe thead th {\n",
              "        text-align: right;\n",
              "    }\n",
              "</style>\n",
              "<table border=\"1\" class=\"dataframe\">\n",
              "  <thead>\n",
              "    <tr style=\"text-align: right;\">\n",
              "      <th></th>\n",
              "      <th>review</th>\n",
              "      <th>sentiment</th>\n",
              "    </tr>\n",
              "  </thead>\n",
              "  <tbody>\n",
              "    <tr>\n",
              "      <th>4597</th>\n",
              "      <td>Another WOW, just the depth and richness of he...</td>\n",
              "      <td>1</td>\n",
              "    </tr>\n",
              "    <tr>\n",
              "      <th>45898</th>\n",
              "      <td>Among the previous reviews, \"M. Garrison\" and ...</td>\n",
              "      <td>0</td>\n",
              "    </tr>\n",
              "    <tr>\n",
              "      <th>31001</th>\n",
              "      <td>This movie is quite funny, and I didn't rememb...</td>\n",
              "      <td>1</td>\n",
              "    </tr>\n",
              "    <tr>\n",
              "      <th>18135</th>\n",
              "      <td>very repetitive; lacks the animation for child...</td>\n",
              "      <td>0</td>\n",
              "    </tr>\n",
              "    <tr>\n",
              "      <th>49112</th>\n",
              "      <td>This book was published as the Post Cold War w...</td>\n",
              "      <td>1</td>\n",
              "    </tr>\n",
              "    <tr>\n",
              "      <th>...</th>\n",
              "      <td>...</td>\n",
              "      <td>...</td>\n",
              "    </tr>\n",
              "    <tr>\n",
              "      <th>95385</th>\n",
              "      <td>Its only good for the few ok cards that are in...</td>\n",
              "      <td>0</td>\n",
              "    </tr>\n",
              "    <tr>\n",
              "      <th>98553</th>\n",
              "      <td>Re The Sony DVD GX Series DVD RecordersI would...</td>\n",
              "      <td>0</td>\n",
              "    </tr>\n",
              "    <tr>\n",
              "      <th>44691</th>\n",
              "      <td>A great book, or guide i should say, for those...</td>\n",
              "      <td>1</td>\n",
              "    </tr>\n",
              "    <tr>\n",
              "      <th>61099</th>\n",
              "      <td>Simply doesn't work. I tried using more than t...</td>\n",
              "      <td>0</td>\n",
              "    </tr>\n",
              "    <tr>\n",
              "      <th>88941</th>\n",
              "      <td>It puts the labels no where near where I wante...</td>\n",
              "      <td>0</td>\n",
              "    </tr>\n",
              "  </tbody>\n",
              "</table>\n",
              "<p>20000 rows × 2 columns</p>\n",
              "</div>\n",
              "      <button class=\"colab-df-convert\" onclick=\"convertToInteractive('df-a574cac9-1d59-48d5-8790-5e578c9ef59b')\"\n",
              "              title=\"Convert this dataframe to an interactive table.\"\n",
              "              style=\"display:none;\">\n",
              "        \n",
              "  <svg xmlns=\"http://www.w3.org/2000/svg\" height=\"24px\"viewBox=\"0 0 24 24\"\n",
              "       width=\"24px\">\n",
              "    <path d=\"M0 0h24v24H0V0z\" fill=\"none\"/>\n",
              "    <path d=\"M18.56 5.44l.94 2.06.94-2.06 2.06-.94-2.06-.94-.94-2.06-.94 2.06-2.06.94zm-11 1L8.5 8.5l.94-2.06 2.06-.94-2.06-.94L8.5 2.5l-.94 2.06-2.06.94zm10 10l.94 2.06.94-2.06 2.06-.94-2.06-.94-.94-2.06-.94 2.06-2.06.94z\"/><path d=\"M17.41 7.96l-1.37-1.37c-.4-.4-.92-.59-1.43-.59-.52 0-1.04.2-1.43.59L10.3 9.45l-7.72 7.72c-.78.78-.78 2.05 0 2.83L4 21.41c.39.39.9.59 1.41.59.51 0 1.02-.2 1.41-.59l7.78-7.78 2.81-2.81c.8-.78.8-2.07 0-2.86zM5.41 20L4 18.59l7.72-7.72 1.47 1.35L5.41 20z\"/>\n",
              "  </svg>\n",
              "      </button>\n",
              "      \n",
              "  <style>\n",
              "    .colab-df-container {\n",
              "      display:flex;\n",
              "      flex-wrap:wrap;\n",
              "      gap: 12px;\n",
              "    }\n",
              "\n",
              "    .colab-df-convert {\n",
              "      background-color: #E8F0FE;\n",
              "      border: none;\n",
              "      border-radius: 50%;\n",
              "      cursor: pointer;\n",
              "      display: none;\n",
              "      fill: #1967D2;\n",
              "      height: 32px;\n",
              "      padding: 0 0 0 0;\n",
              "      width: 32px;\n",
              "    }\n",
              "\n",
              "    .colab-df-convert:hover {\n",
              "      background-color: #E2EBFA;\n",
              "      box-shadow: 0px 1px 2px rgba(60, 64, 67, 0.3), 0px 1px 3px 1px rgba(60, 64, 67, 0.15);\n",
              "      fill: #174EA6;\n",
              "    }\n",
              "\n",
              "    [theme=dark] .colab-df-convert {\n",
              "      background-color: #3B4455;\n",
              "      fill: #D2E3FC;\n",
              "    }\n",
              "\n",
              "    [theme=dark] .colab-df-convert:hover {\n",
              "      background-color: #434B5C;\n",
              "      box-shadow: 0px 1px 3px 1px rgba(0, 0, 0, 0.15);\n",
              "      filter: drop-shadow(0px 1px 2px rgba(0, 0, 0, 0.3));\n",
              "      fill: #FFFFFF;\n",
              "    }\n",
              "  </style>\n",
              "\n",
              "      <script>\n",
              "        const buttonEl =\n",
              "          document.querySelector('#df-a574cac9-1d59-48d5-8790-5e578c9ef59b button.colab-df-convert');\n",
              "        buttonEl.style.display =\n",
              "          google.colab.kernel.accessAllowed ? 'block' : 'none';\n",
              "\n",
              "        async function convertToInteractive(key) {\n",
              "          const element = document.querySelector('#df-a574cac9-1d59-48d5-8790-5e578c9ef59b');\n",
              "          const dataTable =\n",
              "            await google.colab.kernel.invokeFunction('convertToInteractive',\n",
              "                                                     [key], {});\n",
              "          if (!dataTable) return;\n",
              "\n",
              "          const docLinkHtml = 'Like what you see? Visit the ' +\n",
              "            '<a target=\"_blank\" href=https://colab.research.google.com/notebooks/data_table.ipynb>data table notebook</a>'\n",
              "            + ' to learn more about interactive tables.';\n",
              "          element.innerHTML = '';\n",
              "          dataTable['output_type'] = 'display_data';\n",
              "          await google.colab.output.renderOutput(dataTable, element);\n",
              "          const docLink = document.createElement('div');\n",
              "          docLink.innerHTML = docLinkHtml;\n",
              "          element.appendChild(docLink);\n",
              "        }\n",
              "      </script>\n",
              "    </div>\n",
              "  </div>\n",
              "  "
            ]
          },
          "metadata": {},
          "execution_count": 7
        }
      ]
    },
    {
      "cell_type": "code",
      "source": [
        "# Check for missing data\n",
        "df.isnull().sum()"
      ],
      "metadata": {
        "_uuid": "201a6249-c24c-4d39-b438-3d1a763a604d",
        "_cell_guid": "486ed74c-3923-449d-9ec5-99f7dcd66087",
        "jupyter": {
          "outputs_hidden": false
        },
        "execution": {
          "iopub.status.busy": "2021-06-15T13:48:22.941332Z",
          "iopub.execute_input": "2021-06-15T13:48:22.941741Z",
          "iopub.status.idle": "2021-06-15T13:48:22.971665Z",
          "shell.execute_reply.started": "2021-06-15T13:48:22.941707Z",
          "shell.execute_reply": "2021-06-15T13:48:22.970968Z"
        },
        "trusted": true,
        "colab": {
          "base_uri": "https://localhost:8080/"
        },
        "id": "tZO3HcFGaozV",
        "outputId": "ed408852-bbe3-4878-c97d-44800ef498d1"
      },
      "execution_count": null,
      "outputs": [
        {
          "output_type": "execute_result",
          "data": {
            "text/plain": [
              "review       0\n",
              "sentiment    0\n",
              "dtype: int64"
            ]
          },
          "metadata": {},
          "execution_count": 8
        }
      ]
    },
    {
      "cell_type": "code",
      "source": [
        "# drop missing rows\n",
        "df.dropna(axis=0, inplace=True)"
      ],
      "metadata": {
        "_uuid": "4e2799f7-7cc8-457c-a43f-2ddfa67fabab",
        "_cell_guid": "06510275-87ba-47d5-9589-e78270258c10",
        "jupyter": {
          "outputs_hidden": false
        },
        "execution": {
          "iopub.status.busy": "2021-06-15T13:48:22.974537Z",
          "iopub.execute_input": "2021-06-15T13:48:22.974836Z",
          "iopub.status.idle": "2021-06-15T13:48:23.026420Z",
          "shell.execute_reply.started": "2021-06-15T13:48:22.974810Z",
          "shell.execute_reply": "2021-06-15T13:48:23.025651Z"
        },
        "trusted": true,
        "id": "Tr_syun3aozW"
      },
      "execution_count": null,
      "outputs": []
    },
    {
      "cell_type": "code",
      "source": [
        "# dimensionality of the data\n",
        "df.shape"
      ],
      "metadata": {
        "_uuid": "c90a041b-eb65-4a4b-805a-7a9900e8df02",
        "_cell_guid": "177ff162-f381-44ba-bb85-36ea40de02d1",
        "jupyter": {
          "outputs_hidden": false
        },
        "execution": {
          "iopub.status.busy": "2021-06-15T13:48:23.028447Z",
          "iopub.execute_input": "2021-06-15T13:48:23.028691Z",
          "iopub.status.idle": "2021-06-15T13:48:23.036914Z",
          "shell.execute_reply.started": "2021-06-15T13:48:23.028668Z",
          "shell.execute_reply": "2021-06-15T13:48:23.035895Z"
        },
        "trusted": true,
        "colab": {
          "base_uri": "https://localhost:8080/"
        },
        "id": "C-jLDVJOaozW",
        "outputId": "502b686a-a04a-4ee0-ac85-dffeabfff7f6"
      },
      "execution_count": null,
      "outputs": [
        {
          "output_type": "execute_result",
          "data": {
            "text/plain": [
              "(20000, 2)"
            ]
          },
          "metadata": {},
          "execution_count": 10
        }
      ]
    },
    {
      "cell_type": "code",
      "source": [
        "df.sentiment.value_counts()"
      ],
      "metadata": {
        "colab": {
          "base_uri": "https://localhost:8080/"
        },
        "id": "XNXm6XC2czej",
        "outputId": "58b73670-94e9-4736-de2b-0089bda52d68"
      },
      "execution_count": null,
      "outputs": [
        {
          "output_type": "execute_result",
          "data": {
            "text/plain": [
              "1    10002\n",
              "0     9998\n",
              "Name: sentiment, dtype: int64"
            ]
          },
          "metadata": {},
          "execution_count": 11
        }
      ]
    },
    {
      "cell_type": "markdown",
      "source": [
        "## Data Preprocessing"
      ],
      "metadata": {
        "_uuid": "f03fa6a3-85de-4c49-8e0f-eebc3abb0f74",
        "_cell_guid": "de0f402f-09e1-4bc6-bb6a-afc89ee55ad0",
        "trusted": true,
        "id": "YGOWfuo0aozb"
      }
    },
    {
      "cell_type": "code",
      "source": [
        "def review_to_words(review):\n",
        "    \n",
        "    # convert to lowercase\n",
        "    text = review.lower()\n",
        "    # remove non letters\n",
        "    text = re.sub(r\"[^a-zA-Z0-9]\", \" \", text)\n",
        "    # tokenize\n",
        "    words = text.split()\n",
        "    # remove stopwords\n",
        "    words = [w for w in words if w not in stopwords.words(\"english\")]\n",
        "    # apply stemming\n",
        "    words = [PorterStemmer().stem(w) for w in words]\n",
        "    # return list\n",
        "    return words\n",
        "\n",
        "print(\"\\nOriginal review ->\", df['review'][0])\n",
        "print(\"\\nProcessed review ->\", review_to_words(df['review'][0]))"
      ],
      "metadata": {
        "_uuid": "b452e7a7-8132-4951-a932-d007b3955870",
        "_cell_guid": "13bf9b06-9a96-4e39-b3dd-8c24d848c2c2",
        "jupyter": {
          "outputs_hidden": false
        },
        "execution": {
          "iopub.status.busy": "2021-06-15T13:48:51.533574Z",
          "iopub.execute_input": "2021-06-15T13:48:51.533906Z",
          "iopub.status.idle": "2021-06-15T13:48:51.553512Z",
          "shell.execute_reply.started": "2021-06-15T13:48:51.533869Z",
          "shell.execute_reply": "2021-06-15T13:48:51.552693Z"
        },
        "trusted": true,
        "colab": {
          "base_uri": "https://localhost:8080/"
        },
        "id": "LLe-twDgaozb",
        "outputId": "9a5fd87a-7d7e-4e83-f375-8ff549721708"
      },
      "execution_count": null,
      "outputs": [
        {
          "output_type": "stream",
          "name": "stdout",
          "text": [
            "\n",
            "Original review -> I just adopted a chocolate lab who loves to snuggle and rub against my furniture - leaving behind hair, dirt and oil. I was hesitant to try a slip cover but finally broke down and decided to try one. The velvet and color is very rich and my couch looks better than ever. The slipcover goes on and comes off easily for washing. It wasn't easy to iron so I would recommend a garment steamer for knocking out the wrinkles. It might have been less expensive to train the dog to stay off the furniture but I'm very much in love with my new couch (cover) and puppy!\n",
            "\n",
            "Processed review -> ['adopt', 'chocol', 'lab', 'love', 'snuggl', 'rub', 'furnitur', 'leav', 'behind', 'hair', 'dirt', 'oil', 'hesit', 'tri', 'slip', 'cover', 'final', 'broke', 'decid', 'tri', 'one', 'velvet', 'color', 'rich', 'couch', 'look', 'better', 'ever', 'slipcov', 'goe', 'come', 'easili', 'wash', 'easi', 'iron', 'would', 'recommend', 'garment', 'steamer', 'knock', 'wrinkl', 'might', 'less', 'expens', 'train', 'dog', 'stay', 'furnitur', 'much', 'love', 'new', 'couch', 'cover', 'puppi']\n"
          ]
        }
      ]
    },
    {
      "cell_type": "code",
      "source": [
        "# Apply data processing to each tweet\n",
        "X = list(map(review_to_words, df['review']))"
      ],
      "metadata": {
        "_uuid": "792352af-397b-42b1-bd22-97a83548c929",
        "_cell_guid": "fdd4e291-fc5e-436a-bae3-fdde3fad279f",
        "jupyter": {
          "outputs_hidden": false
        },
        "execution": {
          "iopub.status.busy": "2021-06-15T13:48:51.555058Z",
          "iopub.execute_input": "2021-06-15T13:48:51.555414Z",
          "iopub.status.idle": "2021-06-15T13:56:56.429724Z",
          "shell.execute_reply.started": "2021-06-15T13:48:51.555381Z",
          "shell.execute_reply": "2021-06-15T13:56:56.428932Z"
        },
        "trusted": true,
        "id": "hGc7DG1Jaozb"
      },
      "execution_count": null,
      "outputs": []
    },
    {
      "cell_type": "code",
      "source": [
        "df['sentiment'] = df['sentiment'].map({0:'Negative', 1:'Positive'})\n",
        "\n",
        "# Output first five rows\n",
        "df.head()"
      ],
      "metadata": {
        "colab": {
          "base_uri": "https://localhost:8080/",
          "height": 206
        },
        "id": "mfcUtdc4eK2D",
        "outputId": "da035822-bb0b-4ccc-b3e9-1e9336201afb"
      },
      "execution_count": null,
      "outputs": [
        {
          "output_type": "execute_result",
          "data": {
            "text/plain": [
              "                                                  review sentiment\n",
              "4597   Another WOW, just the depth and richness of he...  Positive\n",
              "45898  Among the previous reviews, \"M. Garrison\" and ...  Negative\n",
              "31001  This movie is quite funny, and I didn't rememb...  Positive\n",
              "18135  very repetitive; lacks the animation for child...  Negative\n",
              "49112  This book was published as the Post Cold War w...  Positive"
            ],
            "text/html": [
              "\n",
              "  <div id=\"df-99e3b12a-281a-4adb-b81e-72a851658a49\">\n",
              "    <div class=\"colab-df-container\">\n",
              "      <div>\n",
              "<style scoped>\n",
              "    .dataframe tbody tr th:only-of-type {\n",
              "        vertical-align: middle;\n",
              "    }\n",
              "\n",
              "    .dataframe tbody tr th {\n",
              "        vertical-align: top;\n",
              "    }\n",
              "\n",
              "    .dataframe thead th {\n",
              "        text-align: right;\n",
              "    }\n",
              "</style>\n",
              "<table border=\"1\" class=\"dataframe\">\n",
              "  <thead>\n",
              "    <tr style=\"text-align: right;\">\n",
              "      <th></th>\n",
              "      <th>review</th>\n",
              "      <th>sentiment</th>\n",
              "    </tr>\n",
              "  </thead>\n",
              "  <tbody>\n",
              "    <tr>\n",
              "      <th>4597</th>\n",
              "      <td>Another WOW, just the depth and richness of he...</td>\n",
              "      <td>Positive</td>\n",
              "    </tr>\n",
              "    <tr>\n",
              "      <th>45898</th>\n",
              "      <td>Among the previous reviews, \"M. Garrison\" and ...</td>\n",
              "      <td>Negative</td>\n",
              "    </tr>\n",
              "    <tr>\n",
              "      <th>31001</th>\n",
              "      <td>This movie is quite funny, and I didn't rememb...</td>\n",
              "      <td>Positive</td>\n",
              "    </tr>\n",
              "    <tr>\n",
              "      <th>18135</th>\n",
              "      <td>very repetitive; lacks the animation for child...</td>\n",
              "      <td>Negative</td>\n",
              "    </tr>\n",
              "    <tr>\n",
              "      <th>49112</th>\n",
              "      <td>This book was published as the Post Cold War w...</td>\n",
              "      <td>Positive</td>\n",
              "    </tr>\n",
              "  </tbody>\n",
              "</table>\n",
              "</div>\n",
              "      <button class=\"colab-df-convert\" onclick=\"convertToInteractive('df-99e3b12a-281a-4adb-b81e-72a851658a49')\"\n",
              "              title=\"Convert this dataframe to an interactive table.\"\n",
              "              style=\"display:none;\">\n",
              "        \n",
              "  <svg xmlns=\"http://www.w3.org/2000/svg\" height=\"24px\"viewBox=\"0 0 24 24\"\n",
              "       width=\"24px\">\n",
              "    <path d=\"M0 0h24v24H0V0z\" fill=\"none\"/>\n",
              "    <path d=\"M18.56 5.44l.94 2.06.94-2.06 2.06-.94-2.06-.94-.94-2.06-.94 2.06-2.06.94zm-11 1L8.5 8.5l.94-2.06 2.06-.94-2.06-.94L8.5 2.5l-.94 2.06-2.06.94zm10 10l.94 2.06.94-2.06 2.06-.94-2.06-.94-.94-2.06-.94 2.06-2.06.94z\"/><path d=\"M17.41 7.96l-1.37-1.37c-.4-.4-.92-.59-1.43-.59-.52 0-1.04.2-1.43.59L10.3 9.45l-7.72 7.72c-.78.78-.78 2.05 0 2.83L4 21.41c.39.39.9.59 1.41.59.51 0 1.02-.2 1.41-.59l7.78-7.78 2.81-2.81c.8-.78.8-2.07 0-2.86zM5.41 20L4 18.59l7.72-7.72 1.47 1.35L5.41 20z\"/>\n",
              "  </svg>\n",
              "      </button>\n",
              "      \n",
              "  <style>\n",
              "    .colab-df-container {\n",
              "      display:flex;\n",
              "      flex-wrap:wrap;\n",
              "      gap: 12px;\n",
              "    }\n",
              "\n",
              "    .colab-df-convert {\n",
              "      background-color: #E8F0FE;\n",
              "      border: none;\n",
              "      border-radius: 50%;\n",
              "      cursor: pointer;\n",
              "      display: none;\n",
              "      fill: #1967D2;\n",
              "      height: 32px;\n",
              "      padding: 0 0 0 0;\n",
              "      width: 32px;\n",
              "    }\n",
              "\n",
              "    .colab-df-convert:hover {\n",
              "      background-color: #E2EBFA;\n",
              "      box-shadow: 0px 1px 2px rgba(60, 64, 67, 0.3), 0px 1px 3px 1px rgba(60, 64, 67, 0.15);\n",
              "      fill: #174EA6;\n",
              "    }\n",
              "\n",
              "    [theme=dark] .colab-df-convert {\n",
              "      background-color: #3B4455;\n",
              "      fill: #D2E3FC;\n",
              "    }\n",
              "\n",
              "    [theme=dark] .colab-df-convert:hover {\n",
              "      background-color: #434B5C;\n",
              "      box-shadow: 0px 1px 3px 1px rgba(0, 0, 0, 0.15);\n",
              "      filter: drop-shadow(0px 1px 2px rgba(0, 0, 0, 0.3));\n",
              "      fill: #FFFFFF;\n",
              "    }\n",
              "  </style>\n",
              "\n",
              "      <script>\n",
              "        const buttonEl =\n",
              "          document.querySelector('#df-99e3b12a-281a-4adb-b81e-72a851658a49 button.colab-df-convert');\n",
              "        buttonEl.style.display =\n",
              "          google.colab.kernel.accessAllowed ? 'block' : 'none';\n",
              "\n",
              "        async function convertToInteractive(key) {\n",
              "          const element = document.querySelector('#df-99e3b12a-281a-4adb-b81e-72a851658a49');\n",
              "          const dataTable =\n",
              "            await google.colab.kernel.invokeFunction('convertToInteractive',\n",
              "                                                     [key], {});\n",
              "          if (!dataTable) return;\n",
              "\n",
              "          const docLinkHtml = 'Like what you see? Visit the ' +\n",
              "            '<a target=\"_blank\" href=https://colab.research.google.com/notebooks/data_table.ipynb>data table notebook</a>'\n",
              "            + ' to learn more about interactive tables.';\n",
              "          element.innerHTML = '';\n",
              "          dataTable['output_type'] = 'display_data';\n",
              "          await google.colab.output.renderOutput(dataTable, element);\n",
              "          const docLink = document.createElement('div');\n",
              "          docLink.innerHTML = docLinkHtml;\n",
              "          element.appendChild(docLink);\n",
              "        }\n",
              "      </script>\n",
              "    </div>\n",
              "  </div>\n",
              "  "
            ]
          },
          "metadata": {},
          "execution_count": 15
        }
      ]
    },
    {
      "cell_type": "code",
      "source": [
        "from sklearn.preprocessing import LabelEncoder\n",
        "\n",
        "# Encode target labels\n",
        "le = LabelEncoder()\n",
        "Y = le.fit_transform(df['sentiment'])"
      ],
      "metadata": {
        "_uuid": "afe4880d-4718-4ac4-a475-4ff4ca592ae7",
        "_cell_guid": "4f06bc18-d12c-4c77-90d3-97e056f2336e",
        "jupyter": {
          "outputs_hidden": false
        },
        "execution": {
          "iopub.status.busy": "2021-06-15T13:56:56.431296Z",
          "iopub.execute_input": "2021-06-15T13:56:56.431632Z",
          "iopub.status.idle": "2021-06-15T13:56:56.489453Z",
          "shell.execute_reply.started": "2021-06-15T13:56:56.431598Z",
          "shell.execute_reply": "2021-06-15T13:56:56.488825Z"
        },
        "trusted": true,
        "id": "0utN5wkQaozc"
      },
      "execution_count": null,
      "outputs": []
    },
    {
      "cell_type": "code",
      "source": [
        "print(X[0])\n",
        "print(Y[0])"
      ],
      "metadata": {
        "_uuid": "84bb5739-621a-4897-9ba1-07d5f784e35d",
        "_cell_guid": "c19810ad-086e-4304-b3d4-47c2135e17cc",
        "jupyter": {
          "outputs_hidden": false
        },
        "execution": {
          "iopub.status.busy": "2021-06-15T13:56:56.490583Z",
          "iopub.execute_input": "2021-06-15T13:56:56.490898Z",
          "iopub.status.idle": "2021-06-15T13:56:56.496022Z",
          "shell.execute_reply.started": "2021-06-15T13:56:56.490859Z",
          "shell.execute_reply": "2021-06-15T13:56:56.494153Z"
        },
        "trusted": true,
        "colab": {
          "base_uri": "https://localhost:8080/"
        },
        "id": "TqoWtiY6aozc",
        "outputId": "6993901b-88c4-4228-c1c6-2dc8717af64f"
      },
      "execution_count": null,
      "outputs": [
        {
          "output_type": "stream",
          "name": "stdout",
          "text": [
            "['anoth', 'wow', 'depth', 'rich', 'write', 'understand', 'god', 'word', 'love', 'encourag', 'enlighten', 'amaz', 'simpl', 'well', 'profound', 'word', 'impress', 'written', 'middl', '1800', 'address', 'anyth', 'relev', 'today', 'christian', 'secret', 'happi', 'life', 'complet', 'unabridg']\n",
            "1\n"
          ]
        }
      ]
    },
    {
      "cell_type": "markdown",
      "source": [
        "### Train and test split"
      ],
      "metadata": {
        "_uuid": "a69f5a61-e641-4d50-be8a-561ffdd13aeb",
        "_cell_guid": "f9ff9b12-980d-4a0c-b205-7abba133ba3e",
        "trusted": true,
        "id": "ugJ4WumQaozc"
      }
    },
    {
      "cell_type": "code",
      "source": [
        "y = pd.get_dummies(df['sentiment'])\n",
        "X_train, X_test, y_train, y_test = train_test_split(X, y, test_size=0.2, random_state=1)\n",
        "X_train, X_val, y_train, y_val = train_test_split(X_train, y_train, test_size=0.20, random_state=1)"
      ],
      "metadata": {
        "_uuid": "16792e3e-f18b-40aa-968a-f8d72ec01908",
        "_cell_guid": "246d6ef8-7ed1-404f-9a55-2b74c407418c",
        "jupyter": {
          "outputs_hidden": false
        },
        "execution": {
          "iopub.status.busy": "2021-06-15T13:56:56.497714Z",
          "iopub.execute_input": "2021-06-15T13:56:56.498070Z",
          "iopub.status.idle": "2021-06-15T13:56:56.734094Z",
          "shell.execute_reply.started": "2021-06-15T13:56:56.498037Z",
          "shell.execute_reply": "2021-06-15T13:56:56.733037Z"
        },
        "trusted": true,
        "id": "BVR3t7Wtaozc"
      },
      "execution_count": null,
      "outputs": []
    },
    {
      "cell_type": "markdown",
      "source": [
        "### Bag of words (BOW) feature extraction"
      ],
      "metadata": {
        "_uuid": "59bb8dab-377f-4c0f-b0e7-dc4977fb7817",
        "_cell_guid": "ac8e697c-c61f-4de8-b80e-2a014c6e4e41",
        "trusted": true,
        "id": "luqeNRt7aozc"
      }
    },
    {
      "cell_type": "code",
      "source": [
        "from sklearn.feature_extraction.text import CountVectorizer\n",
        "#from sklearn.feature_extraction.text import TfidfVectorizer\n",
        "\n",
        "vocabulary_size = 5000\n",
        "\n",
        "# Tweets have already been preprocessed hence dummy function will be passed in \n",
        "# to preprocessor & tokenizer step\n",
        "count_vector = CountVectorizer(max_features=vocabulary_size,\n",
        "#                               ngram_range=(1,2),    # unigram and bigram\n",
        "                                preprocessor=lambda x: x,\n",
        "                               tokenizer=lambda x: x) \n",
        "#tfidf_vector = TfidfVectorizer(lowercase=True, stop_words='english')\n",
        "\n",
        "# Fit the training data\n",
        "X_train = count_vector.fit_transform(X_train).toarray()\n",
        "\n",
        "# Transform testing data\n",
        "X_test = count_vector.transform(X_test).toarray()"
      ],
      "metadata": {
        "_uuid": "3eb577ca-80df-496b-91e1-ba0aab21fe11",
        "_cell_guid": "c9e9e40f-3610-4d2f-87d3-a124082b688a",
        "jupyter": {
          "outputs_hidden": false
        },
        "execution": {
          "iopub.status.busy": "2021-06-15T13:56:56.735579Z",
          "iopub.execute_input": "2021-06-15T13:56:56.736192Z",
          "iopub.status.idle": "2021-06-15T13:57:00.775493Z",
          "shell.execute_reply.started": "2021-06-15T13:56:56.736152Z",
          "shell.execute_reply": "2021-06-15T13:57:00.774712Z"
        },
        "trusted": true,
        "colab": {
          "base_uri": "https://localhost:8080/"
        },
        "id": "NzIPgkUsaozc",
        "outputId": "347452ee-81d2-4dd9-a930-523c1e6afea2"
      },
      "execution_count": null,
      "outputs": [
        {
          "output_type": "stream",
          "name": "stderr",
          "text": [
            "/usr/local/lib/python3.10/dist-packages/sklearn/feature_extraction/text.py:528: UserWarning: The parameter 'token_pattern' will not be used since 'tokenizer' is not None'\n",
            "  warnings.warn(\n"
          ]
        }
      ]
    },
    {
      "cell_type": "code",
      "source": [
        "#import sklearn.preprocessing as pr\n",
        "\n",
        "# Normalize BoW features in training and test set\n",
        "#X_train = pr.normalize(X_train, axis=1)\n",
        "#X_test  = pr.normalize(X_test, axis=1)"
      ],
      "metadata": {
        "_uuid": "8577fe0b-162e-42c0-8d58-c377d77e462f",
        "_cell_guid": "172f7f81-9e69-4b17-838b-23a2f2206d45",
        "jupyter": {
          "outputs_hidden": false
        },
        "execution": {
          "iopub.status.busy": "2021-06-15T13:57:00.776727Z",
          "iopub.execute_input": "2021-06-15T13:57:00.777071Z",
          "iopub.status.idle": "2021-06-15T13:57:00.780710Z",
          "shell.execute_reply.started": "2021-06-15T13:57:00.777038Z",
          "shell.execute_reply": "2021-06-15T13:57:00.779947Z"
        },
        "trusted": true,
        "id": "2yZa_u0eaozk"
      },
      "execution_count": null,
      "outputs": []
    },
    {
      "cell_type": "code",
      "source": [
        "# print first 200 words/tokens\n",
        "print(count_vector.get_feature_names_out()[:200])"
      ],
      "metadata": {
        "_uuid": "832389ad-89a0-4302-bfde-62fbe5b767e5",
        "_cell_guid": "87b2a010-f51b-4c8e-bfc7-7db8b9190a44",
        "jupyter": {
          "outputs_hidden": false
        },
        "execution": {
          "iopub.status.busy": "2021-06-15T13:57:00.782020Z",
          "iopub.execute_input": "2021-06-15T13:57:00.782500Z",
          "iopub.status.idle": "2021-06-15T13:57:00.800575Z",
          "shell.execute_reply.started": "2021-06-15T13:57:00.782465Z",
          "shell.execute_reply": "2021-06-15T13:57:00.799703Z"
        },
        "trusted": true,
        "colab": {
          "base_uri": "https://localhost:8080/"
        },
        "id": "A_rCYUBtaozl",
        "outputId": "52be1e28-27cb-432f-c6f3-4a6720d904a9"
      },
      "execution_count": null,
      "outputs": [
        {
          "output_type": "stream",
          "name": "stdout",
          "text": [
            "['0' '00' '000' '1' '10' '100' '1000' '101' '10th' '11' '12' '120' '13'\n",
            " '14' '15' '150' '1500' '16' '17' '18' '1800' '19' '1930' '1950' '1960'\n",
            " '1970' '1980' '1981' '1984' '1988' '1990' '1995' '1998' '1999' '19th'\n",
            " '1st' '2' '20' '200' '2000' '2001' '2002' '2003' '2004' '2005' '2006'\n",
            " '2007' '2008' '2009' '2010' '2011' '2012' '20th' '21' '22' '23' '24' '25'\n",
            " '250' '26' '27' '28' '29' '2nd' '2pac' '3' '30' '300' '32' '33' '34' '35'\n",
            " '350' '36' '360' '38' '3d' '3rd' '4' '40' '400' '43' '44' '45' '46' '48'\n",
            " '4th' '5' '50' '500' '52' '55' '5th' '6' '60' '600' '64' '65' '650' '68'\n",
            " '6th' '7' '70' '700' '75' '8' '80' '800' '802' '8th' '9' '90' '95' '97'\n",
            " '98' '99' 'aa' 'aaron' 'ab' 'abandon' 'abil' 'abl' 'abruptli' 'absenc'\n",
            " 'absolut' 'absorb' 'abstract' 'absurd' 'abus' 'ac' 'academ' 'academi'\n",
            " 'accent' 'accept' 'access' 'accessori' 'accid' 'accident' 'accompani'\n",
            " 'accomplish' 'accord' 'account' 'accur' 'accuraci' 'accus' 'ace' 'ach'\n",
            " 'achiev' 'acid' 'acn' 'acoust' 'across' 'act' 'action' 'activ' 'actor'\n",
            " 'actress' 'actual' 'ad' 'adam' 'adapt' 'adaptor' 'add' 'addict' 'addit'\n",
            " 'address' 'adequ' 'adjust' 'administr' 'admir' 'admit' 'admittedli'\n",
            " 'adolesc' 'adopt' 'ador' 'adult' 'adulthood' 'advanc' 'advantag'\n",
            " 'adventur' 'advertis' 'advic' 'advis' 'advoc' 'affair' 'affect' 'affili'\n",
            " 'afford' 'afghanistan' 'afraid' 'africa' 'african' 'afternoon'\n",
            " 'aftertast' 'afterward' 'age' 'agenc' 'agenda' 'agent' 'aggress']\n"
          ]
        }
      ]
    },
    {
      "cell_type": "code",
      "source": [
        "# Plot the BoW feature vector\n",
        "plt.plot(X_train[2,:])\n",
        "plt.xlabel('Word')\n",
        "plt.ylabel('Count')\n",
        "plt.show()"
      ],
      "metadata": {
        "_uuid": "67d7be8f-57ce-4f5d-9684-62ace517a549",
        "_cell_guid": "3357d08e-29cd-4cfb-99f1-edbef089445a",
        "jupyter": {
          "outputs_hidden": false
        },
        "execution": {
          "iopub.status.busy": "2021-06-15T13:57:00.802080Z",
          "iopub.execute_input": "2021-06-15T13:57:00.802484Z",
          "iopub.status.idle": "2021-06-15T13:57:00.920572Z",
          "shell.execute_reply.started": "2021-06-15T13:57:00.802448Z",
          "shell.execute_reply": "2021-06-15T13:57:00.919626Z"
        },
        "trusted": true,
        "colab": {
          "base_uri": "https://localhost:8080/",
          "height": 449
        },
        "id": "Hpaqoi8vaozl",
        "outputId": "0c2642f2-4a4f-4b02-e18f-6a05df067476"
      },
      "execution_count": null,
      "outputs": [
        {
          "output_type": "display_data",
          "data": {
            "text/plain": [
              "<Figure size 640x480 with 1 Axes>"
            ],
            "image/png": "[encoded data removed]"
          },
          "metadata": {}
        }
      ]
    },
    {
      "cell_type": "code",
      "source": [
        "from tensorflow import keras"
      ],
      "metadata": {
        "id": "MmcfPOpMf1Vk"
      },
      "execution_count": null,
      "outputs": []
    },
    {
      "cell_type": "code",
      "source": [
        "from keras.preprocessing.text import Tokenizer\n",
        "\n",
        "max_words = 5000\n",
        "max_len=50\n",
        "\n",
        "def tokenize_pad_sequences(text):\n",
        "    '''\n",
        "    This function tokenize the input text into sequnences of intergers and then\n",
        "    pad each sequence to the same length\n",
        "    '''\n",
        "    # Text tokenization\n",
        "    tokenizer = Tokenizer(num_words=max_words, lower=True, split=' ')\n",
        "    tokenizer.fit_on_texts(text)\n",
        "    # Transforms text to a sequence of integers\n",
        "    X = tokenizer.texts_to_sequences(text)\n",
        "    # Pad sequences to the same length\n",
        "    X = keras.preprocessing.sequence.pad_sequences(X, padding='post', maxlen=max_len)\n",
        "    # return sequences\n",
        "    return X, tokenizer\n",
        "\n",
        "print('Before Tokenization & Padding \\n', df['review'][0])\n",
        "X, tokenizer = tokenize_pad_sequences(df['review'])\n",
        "print('After Tokenization & Padding \\n', X[0])"
      ],
      "metadata": {
        "_uuid": "09fe6021-b3ac-419c-ab3b-3a1f76379a2c",
        "_cell_guid": "ee7d87c0-f428-47d0-92cf-4e3b157d83eb",
        "jupyter": {
          "outputs_hidden": false
        },
        "execution": {
          "iopub.status.busy": "2021-06-15T13:57:00.922100Z",
          "iopub.execute_input": "2021-06-15T13:57:00.922444Z",
          "iopub.status.idle": "2021-06-15T13:57:10.389152Z",
          "shell.execute_reply.started": "2021-06-15T13:57:00.922410Z",
          "shell.execute_reply": "2021-06-15T13:57:10.387288Z"
        },
        "trusted": true,
        "colab": {
          "base_uri": "https://localhost:8080/"
        },
        "id": "OWgXYWpQaozl",
        "outputId": "8d344ee6-edce-48d8-aa42-b37483f61edf"
      },
      "execution_count": null,
      "outputs": [
        {
          "output_type": "stream",
          "name": "stdout",
          "text": [
            "Before Tokenization & Padding \n",
            " I just adopted a chocolate lab who loves to snuggle and rub against my furniture - leaving behind hair, dirt and oil. I was hesitant to try a slip cover but finally broke down and decided to try one. The velvet and color is very rich and my couch looks better than ever. The slipcover goes on and comes off easily for washing. It wasn't easy to iron so I would recommend a garment steamer for knocking out the wrinkles. It might have been less expensive to train the dog to stay off the furniture but I'm very much in love with my new couch (cover) and puppy!\n",
            "After Tokenization & Padding \n",
            " [1095    7  569   59  447    2   59   90   47 2690    2   14   14   47\n",
            "   25 1863   33    1   22   65   22    1    7   76  447    2   46 1889\n",
            "   22    6   13  223   10    1  808    2 4077  250   12    9 3308  559\n",
            "    1 1953    7    4  368  156  509    2]\n"
          ]
        }
      ]
    },
    {
      "cell_type": "code",
      "source": [
        "import pickle\n",
        "\n",
        "# saving\n",
        "with open('tokenizer.pickle', 'wb') as handle:\n",
        "    pickle.dump(tokenizer, handle, protocol=pickle.HIGHEST_PROTOCOL)\n",
        "\n",
        "# loading\n",
        "with open('tokenizer.pickle', 'rb') as handle:\n",
        "    tokenizer = pickle.load(handle)"
      ],
      "metadata": {
        "_uuid": "0dd5da2a-01b2-4697-a201-736d6a9bd9f1",
        "_cell_guid": "53611a76-f3fe-4a8b-a86e-a956ad8dc2b3",
        "jupyter": {
          "outputs_hidden": false
        },
        "execution": {
          "iopub.status.busy": "2021-06-15T13:57:10.390514Z",
          "iopub.execute_input": "2021-06-15T13:57:10.390829Z",
          "iopub.status.idle": "2021-06-15T13:57:10.662767Z",
          "shell.execute_reply.started": "2021-06-15T13:57:10.390795Z",
          "shell.execute_reply": "2021-06-15T13:57:10.661979Z"
        },
        "trusted": true,
        "id": "5Aea6wDXaozm"
      },
      "execution_count": null,
      "outputs": []
    },
    {
      "cell_type": "code",
      "source": [
        "y = pd.get_dummies(df['sentiment'])\n",
        "X_train, X_test, y_train, y_test = train_test_split(X, y, test_size=0.2, random_state=1)\n",
        "X_train, X_val, y_train, y_val = train_test_split(X_train, y_train, test_size=0.25, random_state=1)\n",
        "print('Train Set ->', X_train.shape, y_train.shape)\n",
        "print('Validation Set ->', X_val.shape, y_val.shape)\n",
        "print('Test Set ->', X_test.shape, y_test.shape)"
      ],
      "metadata": {
        "_uuid": "8218591d-f858-4e1f-a877-10e74f0885f3",
        "_cell_guid": "ab4d79f8-27f4-4384-866a-280442941ef7",
        "jupyter": {
          "outputs_hidden": false
        },
        "execution": {
          "iopub.status.busy": "2021-06-15T13:57:10.664774Z",
          "iopub.execute_input": "2021-06-15T13:57:10.665470Z",
          "iopub.status.idle": "2021-06-15T13:57:10.905583Z",
          "shell.execute_reply.started": "2021-06-15T13:57:10.665432Z",
          "shell.execute_reply": "2021-06-15T13:57:10.904400Z"
        },
        "trusted": true,
        "colab": {
          "base_uri": "https://localhost:8080/"
        },
        "id": "6_vwJJCfaozm",
        "outputId": "b92d14d8-2a2f-4c42-9359-98a70e0c8967"
      },
      "execution_count": null,
      "outputs": [
        {
          "output_type": "stream",
          "name": "stdout",
          "text": [
            "Train Set -> (12000, 50) (12000, 2)\n",
            "Validation Set -> (4000, 50) (4000, 2)\n",
            "Test Set -> (4000, 50) (4000, 2)\n"
          ]
        }
      ]
    },
    {
      "cell_type": "code",
      "source": [
        "import keras.backend as K\n",
        "\n",
        "def f1_score(precision, recall):\n",
        "    ''' Function to calculate f1 score '''\n",
        "    \n",
        "    f1_val = 2*(precision*recall)/(precision+recall+K.epsilon())\n",
        "    return f1_val"
      ],
      "metadata": {
        "_uuid": "73f3276a-0531-4142-8695-3af993665794",
        "_cell_guid": "68b2697c-f73a-4f55-9dfa-f47319a60d3e",
        "jupyter": {
          "outputs_hidden": false
        },
        "execution": {
          "iopub.status.busy": "2021-06-15T13:57:10.907553Z",
          "iopub.execute_input": "2021-06-15T13:57:10.907915Z",
          "iopub.status.idle": "2021-06-15T13:57:10.913098Z",
          "shell.execute_reply.started": "2021-06-15T13:57:10.907864Z",
          "shell.execute_reply": "2021-06-15T13:57:10.912086Z"
        },
        "trusted": true,
        "id": "EePcQeBWaozm"
      },
      "execution_count": null,
      "outputs": []
    },
    {
      "cell_type": "code",
      "source": [
        "from keras.models import Sequential\n",
        "from keras.layers import Embedding, Conv1D, MaxPooling1D, Bidirectional, LSTM, Dense, Dropout, BatchNormalization\n",
        "from keras.metrics import Precision, Recall\n",
        "from keras.optimizers import SGD\n",
        "from keras.optimizers import RMSprop\n",
        "from keras import datasets\n",
        "\n",
        "from keras.callbacks import LearningRateScheduler\n",
        "from keras.callbacks import History\n",
        "\n",
        "from keras import losses\n",
        "\n",
        "vocab_size = 5000\n",
        "embedding_size = 32\n",
        "epochs=20\n",
        "learning_rate = 0.1\n",
        "decay_rate = learning_rate / epochs\n",
        "momentum = 0.8\n",
        "\n",
        "sgd = SGD(lr=learning_rate, momentum=momentum, decay=decay_rate, nesterov=False)\n",
        "# Build model\n",
        "model= Sequential()\n",
        "model.add(Embedding(vocab_size, embedding_size, input_length=max_len))\n",
        "model.add(MaxPooling1D(pool_size=4))\n",
        "model.add(Bidirectional(LSTM(32)))\n",
        "model.add(Dropout(0.4))\n",
        "model.add(Dense(2, activation='softmax'))"
      ],
      "metadata": {
        "_uuid": "bb98be32-1c7a-442a-bd28-7bf3a01b6050",
        "_cell_guid": "34db76fb-fc02-4aa9-86ef-88d30cb5aa01",
        "jupyter": {
          "outputs_hidden": false
        },
        "execution": {
          "iopub.status.busy": "2021-06-15T13:57:10.919179Z",
          "iopub.execute_input": "2021-06-15T13:57:10.919564Z",
          "iopub.status.idle": "2021-06-15T13:57:13.675214Z",
          "shell.execute_reply.started": "2021-06-15T13:57:10.919531Z",
          "shell.execute_reply": "2021-06-15T13:57:13.674327Z"
        },
        "trusted": true,
        "colab": {
          "base_uri": "https://localhost:8080/"
        },
        "id": "RA24HM9Caozn",
        "outputId": "e0016045-b913-44fc-f38a-cb7004158cdf"
      },
      "execution_count": null,
      "outputs": [
        {
          "output_type": "stream",
          "name": "stderr",
          "text": [
            "/usr/local/lib/python3.10/dist-packages/keras/optimizers/legacy/gradient_descent.py:114: UserWarning: The `lr` argument is deprecated, use `learning_rate` instead.\n",
            "  super().__init__(name, **kwargs)\n"
          ]
        }
      ]
    },
    {
      "cell_type": "code",
      "source": [
        "import tensorflow as tf\n",
        "tf.keras.utils.plot_model(model, show_shapes=True)"
      ],
      "metadata": {
        "_uuid": "7f4f6d96-8335-456d-b3d2-baaceec72fb2",
        "_cell_guid": "7ffc99fa-11d6-409d-af3c-c4c77add6fe7",
        "jupyter": {
          "outputs_hidden": false
        },
        "execution": {
          "iopub.status.busy": "2021-06-15T13:57:13.676584Z",
          "iopub.execute_input": "2021-06-15T13:57:13.676925Z",
          "iopub.status.idle": "2021-06-15T13:57:14.163667Z",
          "shell.execute_reply.started": "2021-06-15T13:57:13.676874Z",
          "shell.execute_reply": "2021-06-15T13:57:14.162848Z"
        },
        "trusted": true,
        "colab": {
          "base_uri": "https://localhost:8080/",
          "height": 754
        },
        "id": "rJmt33Lhaozn",
        "outputId": "589ca897-5ae1-40d6-80ec-dc5f3edc83b0"
      },
      "execution_count": null,
      "outputs": [
        {
          "output_type": "execute_result",
          "data": {
            "image/png": "[encoded data removed]",
            "text/plain": [
              "<IPython.core.display.Image object>"
            ]
          },
          "metadata": {},
          "execution_count": 74
        }
      ]
    },
    {
      "cell_type": "code",
      "source": [
        "print(model.summary())\n",
        "\n",
        "# Compile model\n",
        "model.compile(loss='binary_crossentropy', optimizer=sgd, \n",
        "               metrics=['accuracy', Precision(), Recall()])\n"
      ],
      "metadata": {
        "_uuid": "1f2778a3-1caf-4927-aef5-bdef1048457c",
        "_cell_guid": "402d6b63-3bf3-48cf-b590-163908ae68ae",
        "jupyter": {
          "outputs_hidden": false
        },
        "execution": {
          "iopub.status.busy": "2021-06-15T13:57:14.165380Z",
          "iopub.execute_input": "2021-06-15T13:57:14.165737Z",
          "iopub.status.idle": "2021-06-15T14:03:03.293306Z",
          "shell.execute_reply.started": "2021-06-15T13:57:14.165698Z",
          "shell.execute_reply": "2021-06-15T14:03:03.292500Z"
        },
        "trusted": true,
        "colab": {
          "base_uri": "https://localhost:8080/"
        },
        "id": "pjMO1m9uaozn",
        "outputId": "760638f0-4424-4a16-c4b9-bfc8a2bff03d"
      },
      "execution_count": null,
      "outputs": [
        {
          "output_type": "stream",
          "name": "stdout",
          "text": [
            "Model: \"sequential_10\"\n",
            "_________________________________________________________________\n",
            " Layer (type)                Output Shape              Param #   \n",
            "=================================================================\n",
            " embedding_10 (Embedding)    (None, 50, 32)            160000    \n",
            "                                                                 \n",
            " conv1d_9 (Conv1D)           (None, 50, 64)            6208      \n",
            "                                                                 \n",
            " max_pooling1d_9 (MaxPooling  (None, 12, 64)           0         \n",
            " 1D)                                                             \n",
            "                                                                 \n",
            " bidirectional_12 (Bidirecti  (None, 64)               24832     \n",
            " onal)                                                           \n",
            "                                                                 \n",
            " dropout_10 (Dropout)        (None, 64)                0         \n",
            "                                                                 \n",
            " dense_11 (Dense)            (None, 2)                 130       \n",
            "                                                                 \n",
            "=================================================================\n",
            "Total params: 191,170\n",
            "Trainable params: 191,170\n",
            "Non-trainable params: 0\n",
            "_________________________________________________________________\n",
            "None\n"
          ]
        }
      ]
    },
    {
      "cell_type": "code",
      "source": [
        "from keras import callbacks\n",
        "callback = callbacks.EarlyStopping(monitor='val_loss', patience=3)"
      ],
      "metadata": {
        "id": "_LiyUMxJnzNg"
      },
      "execution_count": null,
      "outputs": []
    },
    {
      "cell_type": "code",
      "source": [
        "batch_size = 64\n",
        "history = model.fit(X_train, y_train,\n",
        "                      validation_data=(X_val, y_val),\n",
        "                      batch_size=batch_size, epochs=20, verbose=1, callbacks=[callback])"
      ],
      "metadata": {
        "colab": {
          "base_uri": "https://localhost:8080/"
        },
        "id": "jXgxFzU8o6SK",
        "outputId": "19441df8-bb94-4f77-e43e-706b32ec1d3e"
      },
      "execution_count": null,
      "outputs": [
        {
          "output_type": "stream",
          "name": "stdout",
          "text": [
            "Epoch 1/15\n",
            "188/188 [==============================] - 24s 103ms/step - loss: 0.6926 - accuracy: 0.5210 - precision_11: 0.5210 - recall_11: 0.5210 - val_loss: 0.6921 - val_accuracy: 0.4958 - val_precision_11: 0.4958 - val_recall_11: 0.4958\n",
            "Epoch 2/15\n",
            "188/188 [==============================] - 5s 25ms/step - loss: 0.6888 - accuracy: 0.5372 - precision_11: 0.5372 - recall_11: 0.5372 - val_loss: 0.6860 - val_accuracy: 0.5520 - val_precision_11: 0.5520 - val_recall_11: 0.5520\n",
            "Epoch 3/15\n",
            "188/188 [==============================] - 6s 31ms/step - loss: 0.6864 - accuracy: 0.5458 - precision_11: 0.5458 - recall_11: 0.5458 - val_loss: 0.6833 - val_accuracy: 0.5515 - val_precision_11: 0.5515 - val_recall_11: 0.5515\n",
            "Epoch 4/15\n",
            "188/188 [==============================] - 5s 28ms/step - loss: 0.6838 - accuracy: 0.5493 - precision_11: 0.5493 - recall_11: 0.5493 - val_loss: 0.6805 - val_accuracy: 0.5560 - val_precision_11: 0.5560 - val_recall_11: 0.5560\n",
            "Epoch 5/15\n",
            "188/188 [==============================] - 5s 25ms/step - loss: 0.6805 - accuracy: 0.5604 - precision_11: 0.5604 - recall_11: 0.5604 - val_loss: 0.6769 - val_accuracy: 0.6068 - val_precision_11: 0.6068 - val_recall_11: 0.6068\n",
            "Epoch 6/15\n",
            "188/188 [==============================] - 7s 35ms/step - loss: 0.6746 - accuracy: 0.5818 - precision_11: 0.5818 - recall_11: 0.5818 - val_loss: 0.6688 - val_accuracy: 0.6248 - val_precision_11: 0.6248 - val_recall_11: 0.6248\n",
            "Epoch 7/15\n",
            "188/188 [==============================] - 5s 25ms/step - loss: 0.6633 - accuracy: 0.6162 - precision_11: 0.6162 - recall_11: 0.6162 - val_loss: 0.6504 - val_accuracy: 0.6392 - val_precision_11: 0.6392 - val_recall_11: 0.6392\n",
            "Epoch 8/15\n",
            "188/188 [==============================] - 5s 26ms/step - loss: 0.6420 - accuracy: 0.6488 - precision_11: 0.6488 - recall_11: 0.6488 - val_loss: 0.6219 - val_accuracy: 0.6555 - val_precision_11: 0.6555 - val_recall_11: 0.6555\n",
            "Epoch 9/15\n",
            "188/188 [==============================] - 6s 33ms/step - loss: 0.6085 - accuracy: 0.6771 - precision_11: 0.6771 - recall_11: 0.6771 - val_loss: 0.5806 - val_accuracy: 0.7007 - val_precision_11: 0.7007 - val_recall_11: 0.7007\n",
            "Epoch 10/15\n",
            "188/188 [==============================] - 5s 25ms/step - loss: 0.5676 - accuracy: 0.7117 - precision_11: 0.7117 - recall_11: 0.7117 - val_loss: 0.5393 - val_accuracy: 0.7268 - val_precision_11: 0.7268 - val_recall_11: 0.7268\n",
            "Epoch 11/15\n",
            "188/188 [==============================] - 6s 33ms/step - loss: 0.5294 - accuracy: 0.7398 - precision_11: 0.7398 - recall_11: 0.7398 - val_loss: 0.5136 - val_accuracy: 0.7475 - val_precision_11: 0.7475 - val_recall_11: 0.7475\n",
            "Epoch 12/15\n",
            "188/188 [==============================] - 5s 26ms/step - loss: 0.4936 - accuracy: 0.7664 - precision_11: 0.7664 - recall_11: 0.7664 - val_loss: 0.5040 - val_accuracy: 0.7548 - val_precision_11: 0.7548 - val_recall_11: 0.7548\n",
            "Epoch 13/15\n",
            "188/188 [==============================] - 5s 25ms/step - loss: 0.4724 - accuracy: 0.7822 - precision_11: 0.7822 - recall_11: 0.7822 - val_loss: 0.4822 - val_accuracy: 0.7673 - val_precision_11: 0.7673 - val_recall_11: 0.7673\n",
            "Epoch 14/15\n",
            "188/188 [==============================] - 7s 35ms/step - loss: 0.4430 - accuracy: 0.8035 - precision_11: 0.8035 - recall_11: 0.8035 - val_loss: 0.4521 - val_accuracy: 0.7895 - val_precision_11: 0.7895 - val_recall_11: 0.7895\n",
            "Epoch 15/15\n",
            "188/188 [==============================] - 5s 25ms/step - loss: 0.4192 - accuracy: 0.8166 - precision_11: 0.8166 - recall_11: 0.8166 - val_loss: 0.4528 - val_accuracy: 0.7900 - val_precision_11: 0.7900 - val_recall_11: 0.7900\n"
          ]
        }
      ]
    },
    {
      "cell_type": "code",
      "source": [
        "# Evaluate model on the test set\n",
        "loss, accuracy, precision, recall = model.evaluate(X_test, y_test, verbose=0)\n",
        "# Print metrics\n",
        "print('')\n",
        "print('Accuracy  : {:.4f}'.format(accuracy))\n",
        "print('Precision : {:.4f}'.format(precision))\n",
        "print('Recall    : {:.4f}'.format(recall))\n",
        "print('F1 Score  : {:.4f}'.format(f1_score(precision, recall)))"
      ],
      "metadata": {
        "_uuid": "42e7ee95-8192-4410-9c47-9f950a7a870e",
        "_cell_guid": "3310bf9e-95ff-4d89-8e64-0f677054bddd",
        "jupyter": {
          "outputs_hidden": false
        },
        "execution": {
          "iopub.status.busy": "2021-06-15T14:03:03.296693Z",
          "iopub.execute_input": "2021-06-15T14:03:03.296973Z",
          "iopub.status.idle": "2021-06-15T14:03:07.916302Z",
          "shell.execute_reply.started": "2021-06-15T14:03:03.296947Z",
          "shell.execute_reply": "2021-06-15T14:03:07.915513Z"
        },
        "trusted": true,
        "colab": {
          "base_uri": "https://localhost:8080/"
        },
        "id": "owSZTff3aozo",
        "outputId": "d7606555-553c-4f82-aaf9-9943bfc86774"
      },
      "execution_count": null,
      "outputs": [
        {
          "output_type": "stream",
          "name": "stdout",
          "text": [
            "\n",
            "Accuracy  : 0.7943\n",
            "Precision : 0.7943\n",
            "Recall    : 0.7943\n",
            "F1 Score  : 0.7942\n"
          ]
        }
      ]
    },
    {
      "cell_type": "code",
      "source": [
        "def plot_training_hist(history):\n",
        "    '''Function to plot history for accuracy and loss'''\n",
        "    \n",
        "    fig, ax = plt.subplots(1, 2, figsize=(10,4))\n",
        "    # first plot\n",
        "    ax[0].plot(history.history['accuracy'])\n",
        "    ax[0].plot(history.history['val_accuracy'])\n",
        "    ax[0].set_title('Model Accuracy')\n",
        "    ax[0].set_xlabel('epoch')\n",
        "    ax[0].set_ylabel('accuracy')\n",
        "    ax[0].legend(['train', 'validation'], loc='best')\n",
        "    # second plot\n",
        "    ax[1].plot(history.history['loss'])\n",
        "    ax[1].plot(history.history['val_loss'])\n",
        "    ax[1].set_title('Model Loss')\n",
        "    ax[1].set_xlabel('epoch')\n",
        "    ax[1].set_ylabel('loss')\n",
        "    ax[1].legend(['train', 'validation'], loc='best')\n",
        "    \n",
        "plot_training_hist(history)"
      ],
      "metadata": {
        "_uuid": "46151ee3-5a8b-44fe-b3fb-36c737323efb",
        "_cell_guid": "ab83ad9c-f59b-4209-9a0e-6e2d6535290e",
        "jupyter": {
          "outputs_hidden": false
        },
        "execution": {
          "iopub.status.busy": "2021-06-15T14:03:07.919134Z",
          "iopub.execute_input": "2021-06-15T14:03:07.919393Z",
          "iopub.status.idle": "2021-06-15T14:03:08.186032Z",
          "shell.execute_reply.started": "2021-06-15T14:03:07.919368Z",
          "shell.execute_reply": "2021-06-15T14:03:08.185301Z"
        },
        "trusted": true,
        "colab": {
          "base_uri": "https://localhost:8080/",
          "height": 410
        },
        "id": "uyHyB_u3aozo",
        "outputId": "aa8f92eb-308b-4685-de63-e6afe3a11837"
      },
      "execution_count": null,
      "outputs": [
        {
          "output_type": "display_data",
          "data": {
            "text/plain": [
              "<Figure size 1000x400 with 2 Axes>"
            ],
            "image/png": "[encoded data removed]"
          },
          "metadata": {}
        }
      ]
    },
    {
      "cell_type": "code",
      "source": [
        "df.count()"
      ],
      "metadata": {
        "colab": {
          "base_uri": "https://localhost:8080/"
        },
        "id": "rdHVb3eCraiJ",
        "outputId": "000a40d3-3831-4088-d33d-2868b4b80c63"
      },
      "execution_count": null,
      "outputs": [
        {
          "output_type": "execute_result",
          "data": {
            "text/plain": [
              "review       20000\n",
              "sentiment    20000\n",
              "dtype: int64"
            ]
          },
          "metadata": {},
          "execution_count": 87
        }
      ]
    },
    {
      "cell_type": "code",
      "source": [
        "df.head(20000)"
      ],
      "metadata": {
        "colab": {
          "base_uri": "https://localhost:8080/",
          "height": 1691
        },
        "id": "nlpFcexrrlrP",
        "outputId": "00a2f02b-14eb-47d8-b63b-b0fcab5cab12"
      },
      "execution_count": null,
      "outputs": [
        {
          "output_type": "execute_result",
          "data": {
            "text/plain": [
              "                                                  review sentiment\n",
              "4597   Another WOW, just the depth and richness of he...  Positive\n",
              "45898  Among the previous reviews, \"M. Garrison\" and ...  Negative\n",
              "31001  This movie is quite funny, and I didn't rememb...  Positive\n",
              "18135  very repetitive; lacks the animation for child...  Negative\n",
              "49112  This book was published as the Post Cold War w...  Positive\n",
              "...                                                  ...       ...\n",
              "95385  Its only good for the few ok cards that are in...  Negative\n",
              "98553  Re The Sony DVD GX Series DVD RecordersI would...  Negative\n",
              "44691  A great book, or guide i should say, for those...  Positive\n",
              "61099  Simply doesn't work. I tried using more than t...  Negative\n",
              "88941  It puts the labels no where near where I wante...  Negative\n",
              "\n",
              "[20000 rows x 2 columns]"
            ],
            "text/html": [
              "\n",
              "  <div id=\"df-6c215acd-8931-45cf-adce-73735cb9fa68\">\n",
              "    <div class=\"colab-df-container\">\n",
              "      <div>\n",
              "<style scoped>\n",
              "    .dataframe tbody tr th:only-of-type {\n",
              "        vertical-align: middle;\n",
              "    }\n",
              "\n",
              "    .dataframe tbody tr th {\n",
              "        vertical-align: top;\n",
              "    }\n",
              "\n",
              "    .dataframe thead th {\n",
              "        text-align: right;\n",
              "    }\n",
              "</style>\n",
              "<table border=\"1\" class=\"dataframe\">\n",
              "  <thead>\n",
              "    <tr style=\"text-align: right;\">\n",
              "      <th></th>\n",
              "      <th>review</th>\n",
              "      <th>sentiment</th>\n",
              "    </tr>\n",
              "  </thead>\n",
              "  <tbody>\n",
              "    <tr>\n",
              "      <th>4597</th>\n",
              "      <td>Another WOW, just the depth and richness of he...</td>\n",
              "      <td>Positive</td>\n",
              "    </tr>\n",
              "    <tr>\n",
              "      <th>45898</th>\n",
              "      <td>Among the previous reviews, \"M. Garrison\" and ...</td>\n",
              "      <td>Negative</td>\n",
              "    </tr>\n",
              "    <tr>\n",
              "      <th>31001</th>\n",
              "      <td>This movie is quite funny, and I didn't rememb...</td>\n",
              "      <td>Positive</td>\n",
              "    </tr>\n",
              "    <tr>\n",
              "      <th>18135</th>\n",
              "      <td>very repetitive; lacks the animation for child...</td>\n",
              "      <td>Negative</td>\n",
              "    </tr>\n",
              "    <tr>\n",
              "      <th>49112</th>\n",
              "      <td>This book was published as the Post Cold War w...</td>\n",
              "      <td>Positive</td>\n",
              "    </tr>\n",
              "    <tr>\n",
              "      <th>...</th>\n",
              "      <td>...</td>\n",
              "      <td>...</td>\n",
              "    </tr>\n",
              "    <tr>\n",
              "      <th>95385</th>\n",
              "      <td>Its only good for the few ok cards that are in...</td>\n",
              "      <td>Negative</td>\n",
              "    </tr>\n",
              "    <tr>\n",
              "      <th>98553</th>\n",
              "      <td>Re The Sony DVD GX Series DVD RecordersI would...</td>\n",
              "      <td>Negative</td>\n",
              "    </tr>\n",
              "    <tr>\n",
              "      <th>44691</th>\n",
              "      <td>A great book, or guide i should say, for those...</td>\n",
              "      <td>Positive</td>\n",
              "    </tr>\n",
              "    <tr>\n",
              "      <th>61099</th>\n",
              "      <td>Simply doesn't work. I tried using more than t...</td>\n",
              "      <td>Negative</td>\n",
              "    </tr>\n",
              "    <tr>\n",
              "      <th>88941</th>\n",
              "      <td>It puts the labels no where near where I wante...</td>\n",
              "      <td>Negative</td>\n",
              "    </tr>\n",
              "  </tbody>\n",
              "</table>\n",
              "<p>20000 rows × 2 columns</p>\n",
              "</div>\n",
              "      <button class=\"colab-df-convert\" onclick=\"convertToInteractive('df-6c215acd-8931-45cf-adce-73735cb9fa68')\"\n",
              "              title=\"Convert this dataframe to an interactive table.\"\n",
              "              style=\"display:none;\">\n",
              "        \n",
              "  <svg xmlns=\"http://www.w3.org/2000/svg\" height=\"24px\"viewBox=\"0 0 24 24\"\n",
              "       width=\"24px\">\n",
              "    <path d=\"M0 0h24v24H0V0z\" fill=\"none\"/>\n",
              "    <path d=\"M18.56 5.44l.94 2.06.94-2.06 2.06-.94-2.06-.94-.94-2.06-.94 2.06-2.06.94zm-11 1L8.5 8.5l.94-2.06 2.06-.94-2.06-.94L8.5 2.5l-.94 2.06-2.06.94zm10 10l.94 2.06.94-2.06 2.06-.94-2.06-.94-.94-2.06-.94 2.06-2.06.94z\"/><path d=\"M17.41 7.96l-1.37-1.37c-.4-.4-.92-.59-1.43-.59-.52 0-1.04.2-1.43.59L10.3 9.45l-7.72 7.72c-.78.78-.78 2.05 0 2.83L4 21.41c.39.39.9.59 1.41.59.51 0 1.02-.2 1.41-.59l7.78-7.78 2.81-2.81c.8-.78.8-2.07 0-2.86zM5.41 20L4 18.59l7.72-7.72 1.47 1.35L5.41 20z\"/>\n",
              "  </svg>\n",
              "      </button>\n",
              "      \n",
              "  <style>\n",
              "    .colab-df-container {\n",
              "      display:flex;\n",
              "      flex-wrap:wrap;\n",
              "      gap: 12px;\n",
              "    }\n",
              "\n",
              "    .colab-df-convert {\n",
              "      background-color: #E8F0FE;\n",
              "      border: none;\n",
              "      border-radius: 50%;\n",
              "      cursor: pointer;\n",
              "      display: none;\n",
              "      fill: #1967D2;\n",
              "      height: 32px;\n",
              "      padding: 0 0 0 0;\n",
              "      width: 32px;\n",
              "    }\n",
              "\n",
              "    .colab-df-convert:hover {\n",
              "      background-color: #E2EBFA;\n",
              "      box-shadow: 0px 1px 2px rgba(60, 64, 67, 0.3), 0px 1px 3px 1px rgba(60, 64, 67, 0.15);\n",
              "      fill: #174EA6;\n",
              "    }\n",
              "\n",
              "    [theme=dark] .colab-df-convert {\n",
              "      background-color: #3B4455;\n",
              "      fill: #D2E3FC;\n",
              "    }\n",
              "\n",
              "    [theme=dark] .colab-df-convert:hover {\n",
              "      background-color: #434B5C;\n",
              "      box-shadow: 0px 1px 3px 1px rgba(0, 0, 0, 0.15);\n",
              "      filter: drop-shadow(0px 1px 2px rgba(0, 0, 0, 0.3));\n",
              "      fill: #FFFFFF;\n",
              "    }\n",
              "  </style>\n",
              "\n",
              "      <script>\n",
              "        const buttonEl =\n",
              "          document.querySelector('#df-6c215acd-8931-45cf-adce-73735cb9fa68 button.colab-df-convert');\n",
              "        buttonEl.style.display =\n",
              "          google.colab.kernel.accessAllowed ? 'block' : 'none';\n",
              "\n",
              "        async function convertToInteractive(key) {\n",
              "          const element = document.querySelector('#df-6c215acd-8931-45cf-adce-73735cb9fa68');\n",
              "          const dataTable =\n",
              "            await google.colab.kernel.invokeFunction('convertToInteractive',\n",
              "                                                     [key], {});\n",
              "          if (!dataTable) return;\n",
              "\n",
              "          const docLinkHtml = 'Like what you see? Visit the ' +\n",
              "            '<a target=\"_blank\" href=https://colab.research.google.com/notebooks/data_table.ipynb>data table notebook</a>'\n",
              "            + ' to learn more about interactive tables.';\n",
              "          element.innerHTML = '';\n",
              "          dataTable['output_type'] = 'display_data';\n",
              "          await google.colab.output.renderOutput(dataTable, element);\n",
              "          const docLink = document.createElement('div');\n",
              "          docLink.innerHTML = docLinkHtml;\n",
              "          element.appendChild(docLink);\n",
              "        }\n",
              "      </script>\n",
              "    </div>\n",
              "  </div>\n",
              "  "
            ]
          },
          "metadata": {},
          "execution_count": 88
        }
      ]
    }
  ]
}